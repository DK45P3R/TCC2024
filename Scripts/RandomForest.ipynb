#Modelo Random Forest


API calls

import pandas as pd
from sklearn.model_selection import train_test_split
from sklearn.ensemble import RandomForestClassifier
from sklearn.metrics import accuracy_score, classification_report, confusion_matrix
import pickle

# Carregar os arquivos CSV sem o índice
data_benign = pd.read_csv('api_calls_2b.csv', encoding='ISO-8859-1', sep=';', index_col=False, on_bad_lines='skip')
data_malign = pd.read_csv('api_calls_2m.csv', encoding='ISO-8859-1', sep=';', index_col=False, on_bad_lines='skip')

# Adicionar coluna de rótulo
data_malign['label'] = 1
data_benign['label'] = 0

# Remover a coluna "Nome do Arquivo" de cada dataset
data_benign = data_benign.drop(columns=['Nome do Arquivo'])
data_malign = data_malign.drop(columns=['Nome do Arquivo'])

# Concatenar os dados
data = pd.concat([data_malign, data_benign], ignore_index=True)

# Preencher valores faltantes com 0
data = data.fillna(0)

# Remover colunas não numéricas (strings) para evitar erros de conversão
data = data.select_dtypes(include=[float, int])

# Separar características e rótulos
X = data.drop('label', axis=1)  # Remove a coluna 'label'
y = data['label']

# Dividir os dados em conjuntos de treinamento e teste
X_train, X_test, y_train, y_test = train_test_split(X, y, test_size=0.2, random_state=0)

# Treinar o modelo Random Forest
model_rf = RandomForestClassifier(n_estimators=100, random_state=3)
model_rf.fit(X_train, y_train)

# Fazer previsões
y_pred = model_rf.predict(X_test)

# Avaliar o modelo
accuracy = accuracy_score(y_test, y_pred)
print('Test accuracy:', accuracy)

# Gerar o relatório de classificação
report = classification_report(y_test, y_pred, target_names=['benigno', 'maligno'])
print("\nRelatório de Classificação:\n", report)

# Exibir a matriz de confusão
conf_matrix = confusion_matrix(y_test, y_pred)
print("Matriz de Confusão:\n", conf_matrix)

# Salvando o Modelo
arquivo_pickle = "RandomForest_API.sav"
pickle.dump(model_rf, open(arquivo_pickle, 'wb'))


Opcodes

import pandas as pd
from sklearn.model_selection import train_test_split
from sklearn.ensemble import RandomForestClassifier
from sklearn.metrics import accuracy_score, classification_report, confusion_matrix
import pickle

# Carregar os arquivos CSV sem o índice
data_benign = pd.read_csv('opcodes_2b.csv', encoding='ISO-8859-1', sep=';', index_col=False, on_bad_lines='skip')
data_malign = pd.read_csv('opcodes_2m.csv', encoding='ISO-8859-1', sep=';', index_col=False, on_bad_lines='skip')

# Adicionar coluna de rótulo
data_malign['label'] = 1
data_benign['label'] = 0

# Remover a coluna "Nome do Arquivo" de cada dataset
data_benign = data_benign.drop(columns=['Nome do Arquivo'])
data_malign = data_malign.drop(columns=['Nome do Arquivo'])

# Concatenar os dados
data = pd.concat([data_malign, data_benign], ignore_index=True)

# Preencher valores faltantes com 0
data = data.fillna(0)

# Remover colunas não numéricas (strings) para evitar erros de conversão
data = data.select_dtypes(include=[float, int])

# Separar características e rótulos
X = data.drop('label', axis=1)  # Remove a coluna 'label'
y = data['label']

# Dividir os dados em conjuntos de treinamento e teste
X_train, X_test, y_train, y_test = train_test_split(X, y, test_size=0.2, random_state=0)

# Treinar o modelo Random Forest
model_rf = RandomForestClassifier(n_estimators=100, random_state=3)
model_rf.fit(X_train, y_train)

# Fazer previsões
y_pred = model_rf.predict(X_test)

# Avaliar o modelo
accuracy = accuracy_score(y_test, y_pred)
print('Test accuracy:', accuracy)

# Gerar o relatório de classificação
report = classification_report(y_test, y_pred, target_names=['benigno', 'maligno'])
print("\nRelatório de Classificação:\n", report)

# Exibir a matriz de confusão
conf_matrix = confusion_matrix(y_test, y_pred)
print("Matriz de Confusão:\n", conf_matrix)

# Salvando o Modelo
arquivo_pickle = "RandomForest_Op.sav"
pickle.dump(model_rf, open(arquivo_pickle, 'wb'))


Permissions

import pandas as pd
from sklearn.model_selection import train_test_split
from sklearn.ensemble import RandomForestClassifier
from sklearn.metrics import accuracy_score, classification_report, confusion_matrix
import pickle

# Carregar os arquivos CSV sem o índice
data_benign = pd.read_csv('permissions_2b.csv', encoding='ISO-8859-1', sep=';', index_col=False, on_bad_lines='skip')
data_malign = pd.read_csv('permissions_2m.csv', encoding='ISO-8859-1', sep=';', index_col=False, on_bad_lines='skip')

# Adicionar coluna de rótulo
data_malign['label'] = 1
data_benign['label'] = 0

# Remover a coluna "Nome do Arquivo" de cada dataset
data_benign = data_benign.drop(columns=['Nome do Arquivo'])
data_malign = data_malign.drop(columns=['Nome do Arquivo'])

# Concatenar os dados
data = pd.concat([data_malign, data_benign], ignore_index=True)

# Preencher valores faltantes com 0
data = data.fillna(0)

# Remover colunas não numéricas (strings) para evitar erros de conversão
data = data.select_dtypes(include=[float, int])

# Separar características e rótulos
X = data.drop('label', axis=1)  # Remove a coluna 'label'
y = data['label']

# Dividir os dados em conjuntos de treinamento e teste
X_train, X_test, y_train, y_test = train_test_split(X, y, test_size=0.2, random_state=0)

# Treinar o modelo Random Forest
model_rf = RandomForestClassifier(n_estimators=150, random_state=3)
model_rf.fit(X_train, y_train)

# Fazer previsões
y_pred = model_rf.predict(X_test)

# Avaliar o modelo
accuracy = accuracy_score(y_test, y_pred)
print('Test accuracy:', accuracy)

# Gerar o relatório de classificação
report = classification_report(y_test, y_pred, target_names=['benigno', 'maligno'])
print("\nRelatório de Classificação:\n", report)

# Exibir a matriz de confusão
conf_matrix = confusion_matrix(y_test, y_pred)
print("Matriz de Confusão:\n", conf_matrix)

# Salvando o Modelo
arquivo_pickle = "RandomForest_P.sav"
pickle.dump(model_rf, open(arquivo_pickle, 'wb'))
